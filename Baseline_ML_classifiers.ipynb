{
  "cells": [
    {
      "cell_type": "code",
      "execution_count": null,
      "metadata": {
        "id": "DgsI8mmRh9lD"
      },
      "outputs": [],
      "source": [
        "import pandas as pd\n",
        "import warnings\n",
        "warnings.filterwarnings('ignore')\n",
        "%matplotlib inline\n",
        "\n",
        "from collections import Counter\n",
        "\n",
        "from sklearn import model_selection, preprocessing\n",
        "from sklearn.model_selection import train_test_split, cross_val_score\n",
        "from sklearn.preprocessing import LabelEncoder, StandardScaler\n",
        "from sklearn.metrics import confusion_matrix, accuracy_score, classification_report\n",
        "from sklearn.ensemble import RandomForestClassifier\n",
        "from sklearn.neighbors import KNeighborsClassifier\n",
        "from sklearn import tree\n",
        "from sklearn.tree import DecisionTreeClassifier\n",
        "\n",
        "from yellowbrick.classifier import ClassificationReport\n",
        "\n",
        "from google.colab import drive\n",
        "from __future__ import print_function"
      ]
    },
    {
      "cell_type": "markdown",
      "source": [
        "### Load data"
      ],
      "metadata": {
        "id": "wBzA10C7Eb2Z"
      }
    },
    {
      "cell_type": "code",
      "execution_count": null,
      "metadata": {
        "colab": {
          "base_uri": "https://localhost:8080/"
        },
        "id": "ddt0DN-Uw9jm",
        "outputId": "36ea56c6-5177-48b5-d937-eac252382829"
      },
      "outputs": [
        {
          "output_type": "stream",
          "name": "stdout",
          "text": [
            "Drive already mounted at /content/drive; to attempt to forcibly remount, call drive.mount(\"/content/drive\", force_remount=True).\n"
          ]
        }
      ],
      "source": [
        "drive.mount(\"/content/drive\")\n",
        "df1 = pd.read_csv('./drive/MyDrive/Data/car_merged.csv',delimiter=',', skipinitialspace=True)"
      ]
    },
    {
      "cell_type": "code",
      "source": [
        "df1.head()"
      ],
      "metadata": {
        "colab": {
          "base_uri": "https://localhost:8080/",
          "height": 300
        },
        "id": "uZWAnWg-EKLc",
        "outputId": "ff48e636-85bb-4dfb-d815-cc6bfa4f2d0c"
      },
      "execution_count": null,
      "outputs": [
        {
          "output_type": "execute_result",
          "data": {
            "text/plain": [
              "   Hour_Start  Hour_End   SOC_Start    SOC_End   day_name day_type Model  \\\n",
              "0        1424      1438   59.756098  52.804878    Tuesday  weekday  Leaf   \n",
              "1         613       641  100.000000  76.341463  Wednesday  weekday  Leaf   \n",
              "2        1629      1702   76.341463  49.634146  Wednesday  weekday  Leaf   \n",
              "3         610       638  100.000000  76.463415   Thursday  weekday  Leaf   \n",
              "4         647       651   76.463415  75.975610   Thursday  weekday  Leaf   \n",
              "\n",
              "  vehicle_model  duration   distance  ...  SOC_End_charge charge_level  \\\n",
              "0       Leaf 24    814.56   4.459798  ...             100      LEVEL_1   \n",
              "1       Leaf 24   1679.41  20.450966  ...              No         None   \n",
              "2       Leaf 24   1989.65  19.825535  ...             100      LEVEL_1   \n",
              "3       Leaf 24   1635.77  20.350014  ...              No         None   \n",
              "4       Leaf 24    248.77   0.625344  ...              No         None   \n",
              "\n",
              "  vehicle_name  year  month day charge_after charge_start_time  \\\n",
              "0       P_1001  2015      6  16            1  2015/06/16 14:41   \n",
              "1       P_1001  2015      6  17            0               NaN   \n",
              "2       P_1001  2015      6  17            1  2015/06/17 17:03   \n",
              "3       P_1001  2015      6  18            0               NaN   \n",
              "4       P_1001  2015      6  18            0               NaN   \n",
              "\n",
              "   charge_end_time  Hour  \n",
              "0  2015/06/17 1:32    14  \n",
              "1              NaN     6  \n",
              "2  2015/06/18 3:42    16  \n",
              "3              NaN     6  \n",
              "4              NaN     6  \n",
              "\n",
              "[5 rows x 26 columns]"
            ],
            "text/html": [
              "\n",
              "  <div id=\"df-671531bd-3a19-4f00-87c5-62a6da4e5a20\">\n",
              "    <div class=\"colab-df-container\">\n",
              "      <div>\n",
              "<style scoped>\n",
              "    .dataframe tbody tr th:only-of-type {\n",
              "        vertical-align: middle;\n",
              "    }\n",
              "\n",
              "    .dataframe tbody tr th {\n",
              "        vertical-align: top;\n",
              "    }\n",
              "\n",
              "    .dataframe thead th {\n",
              "        text-align: right;\n",
              "    }\n",
              "</style>\n",
              "<table border=\"1\" class=\"dataframe\">\n",
              "  <thead>\n",
              "    <tr style=\"text-align: right;\">\n",
              "      <th></th>\n",
              "      <th>Hour_Start</th>\n",
              "      <th>Hour_End</th>\n",
              "      <th>SOC_Start</th>\n",
              "      <th>SOC_End</th>\n",
              "      <th>day_name</th>\n",
              "      <th>day_type</th>\n",
              "      <th>Model</th>\n",
              "      <th>vehicle_model</th>\n",
              "      <th>duration</th>\n",
              "      <th>distance</th>\n",
              "      <th>...</th>\n",
              "      <th>SOC_End_charge</th>\n",
              "      <th>charge_level</th>\n",
              "      <th>vehicle_name</th>\n",
              "      <th>year</th>\n",
              "      <th>month</th>\n",
              "      <th>day</th>\n",
              "      <th>charge_after</th>\n",
              "      <th>charge_start_time</th>\n",
              "      <th>charge_end_time</th>\n",
              "      <th>Hour</th>\n",
              "    </tr>\n",
              "  </thead>\n",
              "  <tbody>\n",
              "    <tr>\n",
              "      <th>0</th>\n",
              "      <td>1424</td>\n",
              "      <td>1438</td>\n",
              "      <td>59.756098</td>\n",
              "      <td>52.804878</td>\n",
              "      <td>Tuesday</td>\n",
              "      <td>weekday</td>\n",
              "      <td>Leaf</td>\n",
              "      <td>Leaf 24</td>\n",
              "      <td>814.56</td>\n",
              "      <td>4.459798</td>\n",
              "      <td>...</td>\n",
              "      <td>100</td>\n",
              "      <td>LEVEL_1</td>\n",
              "      <td>P_1001</td>\n",
              "      <td>2015</td>\n",
              "      <td>6</td>\n",
              "      <td>16</td>\n",
              "      <td>1</td>\n",
              "      <td>2015/06/16 14:41</td>\n",
              "      <td>2015/06/17 1:32</td>\n",
              "      <td>14</td>\n",
              "    </tr>\n",
              "    <tr>\n",
              "      <th>1</th>\n",
              "      <td>613</td>\n",
              "      <td>641</td>\n",
              "      <td>100.000000</td>\n",
              "      <td>76.341463</td>\n",
              "      <td>Wednesday</td>\n",
              "      <td>weekday</td>\n",
              "      <td>Leaf</td>\n",
              "      <td>Leaf 24</td>\n",
              "      <td>1679.41</td>\n",
              "      <td>20.450966</td>\n",
              "      <td>...</td>\n",
              "      <td>No</td>\n",
              "      <td>None</td>\n",
              "      <td>P_1001</td>\n",
              "      <td>2015</td>\n",
              "      <td>6</td>\n",
              "      <td>17</td>\n",
              "      <td>0</td>\n",
              "      <td>NaN</td>\n",
              "      <td>NaN</td>\n",
              "      <td>6</td>\n",
              "    </tr>\n",
              "    <tr>\n",
              "      <th>2</th>\n",
              "      <td>1629</td>\n",
              "      <td>1702</td>\n",
              "      <td>76.341463</td>\n",
              "      <td>49.634146</td>\n",
              "      <td>Wednesday</td>\n",
              "      <td>weekday</td>\n",
              "      <td>Leaf</td>\n",
              "      <td>Leaf 24</td>\n",
              "      <td>1989.65</td>\n",
              "      <td>19.825535</td>\n",
              "      <td>...</td>\n",
              "      <td>100</td>\n",
              "      <td>LEVEL_1</td>\n",
              "      <td>P_1001</td>\n",
              "      <td>2015</td>\n",
              "      <td>6</td>\n",
              "      <td>17</td>\n",
              "      <td>1</td>\n",
              "      <td>2015/06/17 17:03</td>\n",
              "      <td>2015/06/18 3:42</td>\n",
              "      <td>16</td>\n",
              "    </tr>\n",
              "    <tr>\n",
              "      <th>3</th>\n",
              "      <td>610</td>\n",
              "      <td>638</td>\n",
              "      <td>100.000000</td>\n",
              "      <td>76.463415</td>\n",
              "      <td>Thursday</td>\n",
              "      <td>weekday</td>\n",
              "      <td>Leaf</td>\n",
              "      <td>Leaf 24</td>\n",
              "      <td>1635.77</td>\n",
              "      <td>20.350014</td>\n",
              "      <td>...</td>\n",
              "      <td>No</td>\n",
              "      <td>None</td>\n",
              "      <td>P_1001</td>\n",
              "      <td>2015</td>\n",
              "      <td>6</td>\n",
              "      <td>18</td>\n",
              "      <td>0</td>\n",
              "      <td>NaN</td>\n",
              "      <td>NaN</td>\n",
              "      <td>6</td>\n",
              "    </tr>\n",
              "    <tr>\n",
              "      <th>4</th>\n",
              "      <td>647</td>\n",
              "      <td>651</td>\n",
              "      <td>76.463415</td>\n",
              "      <td>75.975610</td>\n",
              "      <td>Thursday</td>\n",
              "      <td>weekday</td>\n",
              "      <td>Leaf</td>\n",
              "      <td>Leaf 24</td>\n",
              "      <td>248.77</td>\n",
              "      <td>0.625344</td>\n",
              "      <td>...</td>\n",
              "      <td>No</td>\n",
              "      <td>None</td>\n",
              "      <td>P_1001</td>\n",
              "      <td>2015</td>\n",
              "      <td>6</td>\n",
              "      <td>18</td>\n",
              "      <td>0</td>\n",
              "      <td>NaN</td>\n",
              "      <td>NaN</td>\n",
              "      <td>6</td>\n",
              "    </tr>\n",
              "  </tbody>\n",
              "</table>\n",
              "<p>5 rows × 26 columns</p>\n",
              "</div>\n",
              "      <button class=\"colab-df-convert\" onclick=\"convertToInteractive('df-671531bd-3a19-4f00-87c5-62a6da4e5a20')\"\n",
              "              title=\"Convert this dataframe to an interactive table.\"\n",
              "              style=\"display:none;\">\n",
              "        \n",
              "  <svg xmlns=\"http://www.w3.org/2000/svg\" height=\"24px\"viewBox=\"0 0 24 24\"\n",
              "       width=\"24px\">\n",
              "    <path d=\"M0 0h24v24H0V0z\" fill=\"none\"/>\n",
              "    <path d=\"M18.56 5.44l.94 2.06.94-2.06 2.06-.94-2.06-.94-.94-2.06-.94 2.06-2.06.94zm-11 1L8.5 8.5l.94-2.06 2.06-.94-2.06-.94L8.5 2.5l-.94 2.06-2.06.94zm10 10l.94 2.06.94-2.06 2.06-.94-2.06-.94-.94-2.06-.94 2.06-2.06.94z\"/><path d=\"M17.41 7.96l-1.37-1.37c-.4-.4-.92-.59-1.43-.59-.52 0-1.04.2-1.43.59L10.3 9.45l-7.72 7.72c-.78.78-.78 2.05 0 2.83L4 21.41c.39.39.9.59 1.41.59.51 0 1.02-.2 1.41-.59l7.78-7.78 2.81-2.81c.8-.78.8-2.07 0-2.86zM5.41 20L4 18.59l7.72-7.72 1.47 1.35L5.41 20z\"/>\n",
              "  </svg>\n",
              "      </button>\n",
              "      \n",
              "  <style>\n",
              "    .colab-df-container {\n",
              "      display:flex;\n",
              "      flex-wrap:wrap;\n",
              "      gap: 12px;\n",
              "    }\n",
              "\n",
              "    .colab-df-convert {\n",
              "      background-color: #E8F0FE;\n",
              "      border: none;\n",
              "      border-radius: 50%;\n",
              "      cursor: pointer;\n",
              "      display: none;\n",
              "      fill: #1967D2;\n",
              "      height: 32px;\n",
              "      padding: 0 0 0 0;\n",
              "      width: 32px;\n",
              "    }\n",
              "\n",
              "    .colab-df-convert:hover {\n",
              "      background-color: #E2EBFA;\n",
              "      box-shadow: 0px 1px 2px rgba(60, 64, 67, 0.3), 0px 1px 3px 1px rgba(60, 64, 67, 0.15);\n",
              "      fill: #174EA6;\n",
              "    }\n",
              "\n",
              "    [theme=dark] .colab-df-convert {\n",
              "      background-color: #3B4455;\n",
              "      fill: #D2E3FC;\n",
              "    }\n",
              "\n",
              "    [theme=dark] .colab-df-convert:hover {\n",
              "      background-color: #434B5C;\n",
              "      box-shadow: 0px 1px 3px 1px rgba(0, 0, 0, 0.15);\n",
              "      filter: drop-shadow(0px 1px 2px rgba(0, 0, 0, 0.3));\n",
              "      fill: #FFFFFF;\n",
              "    }\n",
              "  </style>\n",
              "\n",
              "      <script>\n",
              "        const buttonEl =\n",
              "          document.querySelector('#df-671531bd-3a19-4f00-87c5-62a6da4e5a20 button.colab-df-convert');\n",
              "        buttonEl.style.display =\n",
              "          google.colab.kernel.accessAllowed ? 'block' : 'none';\n",
              "\n",
              "        async function convertToInteractive(key) {\n",
              "          const element = document.querySelector('#df-671531bd-3a19-4f00-87c5-62a6da4e5a20');\n",
              "          const dataTable =\n",
              "            await google.colab.kernel.invokeFunction('convertToInteractive',\n",
              "                                                     [key], {});\n",
              "          if (!dataTable) return;\n",
              "\n",
              "          const docLinkHtml = 'Like what you see? Visit the ' +\n",
              "            '<a target=\"_blank\" href=https://colab.research.google.com/notebooks/data_table.ipynb>data table notebook</a>'\n",
              "            + ' to learn more about interactive tables.';\n",
              "          element.innerHTML = '';\n",
              "          dataTable['output_type'] = 'display_data';\n",
              "          await google.colab.output.renderOutput(dataTable, element);\n",
              "          const docLink = document.createElement('div');\n",
              "          docLink.innerHTML = docLinkHtml;\n",
              "          element.appendChild(docLink);\n",
              "        }\n",
              "      </script>\n",
              "    </div>\n",
              "  </div>\n",
              "  "
            ]
          },
          "metadata": {},
          "execution_count": 191
        }
      ]
    },
    {
      "cell_type": "code",
      "execution_count": null,
      "metadata": {
        "colab": {
          "base_uri": "https://localhost:8080/"
        },
        "id": "Fy4i6TzV7tZ3",
        "outputId": "3d557397-7c93-40d7-d0bb-588cc16796ef"
      },
      "outputs": [
        {
          "output_type": "execute_result",
          "data": {
            "text/plain": [
              "Index(['Hour_Start', 'Hour_End', 'SOC_Start', 'SOC_End', 'day_name',\n",
              "       'day_type', 'Model', 'vehicle_model', 'duration', 'distance', 'Holiday',\n",
              "       'Origin_label', 'Destination_label', 'charge_Start', 'charge_End',\n",
              "       'SOC_Start_charge', 'SOC_End_charge', 'charge_level', 'vehicle_name',\n",
              "       'year', 'month', 'day', 'charge_after', 'charge_start_time',\n",
              "       'charge_end_time', 'Hour'],\n",
              "      dtype='object')"
            ]
          },
          "metadata": {},
          "execution_count": 192
        }
      ],
      "source": [
        "df1.columns"
      ]
    },
    {
      "cell_type": "code",
      "source": [
        "df2 = df1.drop(columns =['Hour_End',  'SOC_End', 'duration', 'distance',  'Model','vehicle_name','charge_Start', 'charge_End','SOC_Start_charge',\n",
        "       'SOC_End_charge', 'charge_after', 'charge_end_time','year','month','day'])"
      ],
      "metadata": {
        "id": "R9z0GYREzEbw"
      },
      "execution_count": null,
      "outputs": []
    },
    {
      "cell_type": "code",
      "source": [
        "df2.columns"
      ],
      "metadata": {
        "colab": {
          "base_uri": "https://localhost:8080/"
        },
        "id": "LhxFMAeCwkJG",
        "outputId": "e127716d-57ed-4a6f-ec6d-150e538d8270"
      },
      "execution_count": null,
      "outputs": [
        {
          "output_type": "execute_result",
          "data": {
            "text/plain": [
              "Index(['Hour_Start', 'SOC_Start', 'day_name', 'day_type', 'vehicle_model',\n",
              "       'Holiday', 'Origin_label', 'Destination_label', 'charge_level',\n",
              "       'charge_start_time', 'Hour'],\n",
              "      dtype='object')"
            ]
          },
          "metadata": {},
          "execution_count": 195
        }
      ]
    },
    {
      "cell_type": "code",
      "execution_count": null,
      "metadata": {
        "colab": {
          "base_uri": "https://localhost:8080/"
        },
        "id": "mF9aTsYysvSv",
        "outputId": "6f0e232e-0c26-4385-f1d7-b48c3392f46f"
      },
      "outputs": [
        {
          "output_type": "execute_result",
          "data": {
            "text/plain": [
              "Counter({'DC_FAST': 3217, 'LEVEL_1': 7374, 'LEVEL_2': 21882, 'None': 130064})"
            ]
          },
          "metadata": {},
          "execution_count": 196
        }
      ],
      "source": [
        "Counter(df2['charge_level'])"
      ]
    },
    {
      "cell_type": "markdown",
      "source": [
        "### Balancing target variable "
      ],
      "metadata": {
        "id": "2MlBqnaMC-nS"
      }
    },
    {
      "cell_type": "code",
      "execution_count": null,
      "metadata": {
        "id": "7dKXSTWiliJM"
      },
      "outputs": [],
      "source": [
        "df_charge_1_dc = df2.loc[(df2['charge_level'] !='None')&(df2['charge_level'] !='LEVEL_2')].copy()\n",
        "df_no_charge = df2[df2['charge_level'] =='None'].copy()\n",
        "df_level_2 = df2[df2['charge_level'] =='LEVEL_2'].copy()\n",
        "\n",
        "# Randomly Choose 10000 samples from  charge_level = None\n",
        "df_no_charge = df_no_charge.sample(n = 9000,random_state=150)\n",
        "df_level_2 =df_level_2.sample(n = 9000,random_state=150)\n",
        "df2 = pd.concat([df_charge_1_dc,df_no_charge,df_level_2 ])"
      ]
    },
    {
      "cell_type": "code",
      "execution_count": null,
      "metadata": {
        "id": "ABCHF_P2pzsx",
        "colab": {
          "base_uri": "https://localhost:8080/"
        },
        "outputId": "fbb78ba4-0a8f-416d-fdaf-70b0062d6b93"
      },
      "outputs": [
        {
          "output_type": "execute_result",
          "data": {
            "text/plain": [
              "Counter({'DC_FAST': 3217, 'LEVEL_1': 7374, 'LEVEL_2': 9000, 'None': 9000})"
            ]
          },
          "metadata": {},
          "execution_count": 198
        }
      ],
      "source": [
        "Counter(df2['charge_level'])"
      ]
    },
    {
      "cell_type": "markdown",
      "source": [
        "### One-hot encoding for categorical features"
      ],
      "metadata": {
        "id": "wA5BW2U9E4s7"
      }
    },
    {
      "cell_type": "code",
      "source": [
        "# One-hot encoding for categorical features\n",
        "df3 = pd.get_dummies(df2, columns = ['day_name','vehicle_model','day_type'])"
      ],
      "metadata": {
        "id": "0caECgKOdRL8"
      },
      "execution_count": null,
      "outputs": []
    },
    {
      "cell_type": "code",
      "source": [
        "df3.head()"
      ],
      "metadata": {
        "colab": {
          "base_uri": "https://localhost:8080/",
          "height": 317
        },
        "id": "ZLNkdaNKdU1m",
        "outputId": "7444d958-d635-42ff-89fa-b9b9daec8ce4"
      },
      "execution_count": null,
      "outputs": [
        {
          "output_type": "execute_result",
          "data": {
            "text/plain": [
              "    Hour_Start  SOC_Start  Holiday Origin_label Destination_label  \\\n",
              "0         1424  59.756098    False        Other              Home   \n",
              "2         1629  76.341463    False        Other              Home   \n",
              "9         1903  41.463415    False        Other              Home   \n",
              "11        1155  74.390244    False        Other              Home   \n",
              "13        1827  73.414634    False        Other              Home   \n",
              "\n",
              "   charge_level charge_start_time  Hour  day_name_Friday  day_name_Monday  \\\n",
              "0       LEVEL_1  2015/06/16 14:41    14                0                0   \n",
              "2       LEVEL_1  2015/06/17 17:03    16                0                0   \n",
              "9       LEVEL_1  2015/06/18 19:10    19                0                0   \n",
              "11      LEVEL_1  2015/06/19 12:26    12                1                0   \n",
              "13      LEVEL_1  2015/06/19 18:52    18                1                0   \n",
              "\n",
              "    ...  day_name_Tuesday  day_name_Wednesday  vehicle_model_Bolt 66  \\\n",
              "0   ...                 1                   0                      0   \n",
              "2   ...                 0                   1                      0   \n",
              "9   ...                 0                   0                      0   \n",
              "11  ...                 0                   0                      0   \n",
              "13  ...                 0                   0                      0   \n",
              "\n",
              "    vehicle_model_Leaf 24  vehicle_model_Leaf 30  vehicle_model_Model S 60_80  \\\n",
              "0                       1                      0                            0   \n",
              "2                       1                      0                            0   \n",
              "9                       1                      0                            0   \n",
              "11                      1                      0                            0   \n",
              "13                      1                      0                            0   \n",
              "\n",
              "    vehicle_model_Model S 80_100  vehicle_model_RAV4 EV 41.8  \\\n",
              "0                              0                           0   \n",
              "2                              0                           0   \n",
              "9                              0                           0   \n",
              "11                             0                           0   \n",
              "13                             0                           0   \n",
              "\n",
              "    day_type_weekday  day_type_weekend  \n",
              "0                  1                 0  \n",
              "2                  1                 0  \n",
              "9                  1                 0  \n",
              "11                 1                 0  \n",
              "13                 1                 0  \n",
              "\n",
              "[5 rows x 23 columns]"
            ],
            "text/html": [
              "\n",
              "  <div id=\"df-1bdf5a45-7177-47e6-9f2e-de69e9f16131\">\n",
              "    <div class=\"colab-df-container\">\n",
              "      <div>\n",
              "<style scoped>\n",
              "    .dataframe tbody tr th:only-of-type {\n",
              "        vertical-align: middle;\n",
              "    }\n",
              "\n",
              "    .dataframe tbody tr th {\n",
              "        vertical-align: top;\n",
              "    }\n",
              "\n",
              "    .dataframe thead th {\n",
              "        text-align: right;\n",
              "    }\n",
              "</style>\n",
              "<table border=\"1\" class=\"dataframe\">\n",
              "  <thead>\n",
              "    <tr style=\"text-align: right;\">\n",
              "      <th></th>\n",
              "      <th>Hour_Start</th>\n",
              "      <th>SOC_Start</th>\n",
              "      <th>Holiday</th>\n",
              "      <th>Origin_label</th>\n",
              "      <th>Destination_label</th>\n",
              "      <th>charge_level</th>\n",
              "      <th>charge_start_time</th>\n",
              "      <th>Hour</th>\n",
              "      <th>day_name_Friday</th>\n",
              "      <th>day_name_Monday</th>\n",
              "      <th>...</th>\n",
              "      <th>day_name_Tuesday</th>\n",
              "      <th>day_name_Wednesday</th>\n",
              "      <th>vehicle_model_Bolt 66</th>\n",
              "      <th>vehicle_model_Leaf 24</th>\n",
              "      <th>vehicle_model_Leaf 30</th>\n",
              "      <th>vehicle_model_Model S 60_80</th>\n",
              "      <th>vehicle_model_Model S 80_100</th>\n",
              "      <th>vehicle_model_RAV4 EV 41.8</th>\n",
              "      <th>day_type_weekday</th>\n",
              "      <th>day_type_weekend</th>\n",
              "    </tr>\n",
              "  </thead>\n",
              "  <tbody>\n",
              "    <tr>\n",
              "      <th>0</th>\n",
              "      <td>1424</td>\n",
              "      <td>59.756098</td>\n",
              "      <td>False</td>\n",
              "      <td>Other</td>\n",
              "      <td>Home</td>\n",
              "      <td>LEVEL_1</td>\n",
              "      <td>2015/06/16 14:41</td>\n",
              "      <td>14</td>\n",
              "      <td>0</td>\n",
              "      <td>0</td>\n",
              "      <td>...</td>\n",
              "      <td>1</td>\n",
              "      <td>0</td>\n",
              "      <td>0</td>\n",
              "      <td>1</td>\n",
              "      <td>0</td>\n",
              "      <td>0</td>\n",
              "      <td>0</td>\n",
              "      <td>0</td>\n",
              "      <td>1</td>\n",
              "      <td>0</td>\n",
              "    </tr>\n",
              "    <tr>\n",
              "      <th>2</th>\n",
              "      <td>1629</td>\n",
              "      <td>76.341463</td>\n",
              "      <td>False</td>\n",
              "      <td>Other</td>\n",
              "      <td>Home</td>\n",
              "      <td>LEVEL_1</td>\n",
              "      <td>2015/06/17 17:03</td>\n",
              "      <td>16</td>\n",
              "      <td>0</td>\n",
              "      <td>0</td>\n",
              "      <td>...</td>\n",
              "      <td>0</td>\n",
              "      <td>1</td>\n",
              "      <td>0</td>\n",
              "      <td>1</td>\n",
              "      <td>0</td>\n",
              "      <td>0</td>\n",
              "      <td>0</td>\n",
              "      <td>0</td>\n",
              "      <td>1</td>\n",
              "      <td>0</td>\n",
              "    </tr>\n",
              "    <tr>\n",
              "      <th>9</th>\n",
              "      <td>1903</td>\n",
              "      <td>41.463415</td>\n",
              "      <td>False</td>\n",
              "      <td>Other</td>\n",
              "      <td>Home</td>\n",
              "      <td>LEVEL_1</td>\n",
              "      <td>2015/06/18 19:10</td>\n",
              "      <td>19</td>\n",
              "      <td>0</td>\n",
              "      <td>0</td>\n",
              "      <td>...</td>\n",
              "      <td>0</td>\n",
              "      <td>0</td>\n",
              "      <td>0</td>\n",
              "      <td>1</td>\n",
              "      <td>0</td>\n",
              "      <td>0</td>\n",
              "      <td>0</td>\n",
              "      <td>0</td>\n",
              "      <td>1</td>\n",
              "      <td>0</td>\n",
              "    </tr>\n",
              "    <tr>\n",
              "      <th>11</th>\n",
              "      <td>1155</td>\n",
              "      <td>74.390244</td>\n",
              "      <td>False</td>\n",
              "      <td>Other</td>\n",
              "      <td>Home</td>\n",
              "      <td>LEVEL_1</td>\n",
              "      <td>2015/06/19 12:26</td>\n",
              "      <td>12</td>\n",
              "      <td>1</td>\n",
              "      <td>0</td>\n",
              "      <td>...</td>\n",
              "      <td>0</td>\n",
              "      <td>0</td>\n",
              "      <td>0</td>\n",
              "      <td>1</td>\n",
              "      <td>0</td>\n",
              "      <td>0</td>\n",
              "      <td>0</td>\n",
              "      <td>0</td>\n",
              "      <td>1</td>\n",
              "      <td>0</td>\n",
              "    </tr>\n",
              "    <tr>\n",
              "      <th>13</th>\n",
              "      <td>1827</td>\n",
              "      <td>73.414634</td>\n",
              "      <td>False</td>\n",
              "      <td>Other</td>\n",
              "      <td>Home</td>\n",
              "      <td>LEVEL_1</td>\n",
              "      <td>2015/06/19 18:52</td>\n",
              "      <td>18</td>\n",
              "      <td>1</td>\n",
              "      <td>0</td>\n",
              "      <td>...</td>\n",
              "      <td>0</td>\n",
              "      <td>0</td>\n",
              "      <td>0</td>\n",
              "      <td>1</td>\n",
              "      <td>0</td>\n",
              "      <td>0</td>\n",
              "      <td>0</td>\n",
              "      <td>0</td>\n",
              "      <td>1</td>\n",
              "      <td>0</td>\n",
              "    </tr>\n",
              "  </tbody>\n",
              "</table>\n",
              "<p>5 rows × 23 columns</p>\n",
              "</div>\n",
              "      <button class=\"colab-df-convert\" onclick=\"convertToInteractive('df-1bdf5a45-7177-47e6-9f2e-de69e9f16131')\"\n",
              "              title=\"Convert this dataframe to an interactive table.\"\n",
              "              style=\"display:none;\">\n",
              "        \n",
              "  <svg xmlns=\"http://www.w3.org/2000/svg\" height=\"24px\"viewBox=\"0 0 24 24\"\n",
              "       width=\"24px\">\n",
              "    <path d=\"M0 0h24v24H0V0z\" fill=\"none\"/>\n",
              "    <path d=\"M18.56 5.44l.94 2.06.94-2.06 2.06-.94-2.06-.94-.94-2.06-.94 2.06-2.06.94zm-11 1L8.5 8.5l.94-2.06 2.06-.94-2.06-.94L8.5 2.5l-.94 2.06-2.06.94zm10 10l.94 2.06.94-2.06 2.06-.94-2.06-.94-.94-2.06-.94 2.06-2.06.94z\"/><path d=\"M17.41 7.96l-1.37-1.37c-.4-.4-.92-.59-1.43-.59-.52 0-1.04.2-1.43.59L10.3 9.45l-7.72 7.72c-.78.78-.78 2.05 0 2.83L4 21.41c.39.39.9.59 1.41.59.51 0 1.02-.2 1.41-.59l7.78-7.78 2.81-2.81c.8-.78.8-2.07 0-2.86zM5.41 20L4 18.59l7.72-7.72 1.47 1.35L5.41 20z\"/>\n",
              "  </svg>\n",
              "      </button>\n",
              "      \n",
              "  <style>\n",
              "    .colab-df-container {\n",
              "      display:flex;\n",
              "      flex-wrap:wrap;\n",
              "      gap: 12px;\n",
              "    }\n",
              "\n",
              "    .colab-df-convert {\n",
              "      background-color: #E8F0FE;\n",
              "      border: none;\n",
              "      border-radius: 50%;\n",
              "      cursor: pointer;\n",
              "      display: none;\n",
              "      fill: #1967D2;\n",
              "      height: 32px;\n",
              "      padding: 0 0 0 0;\n",
              "      width: 32px;\n",
              "    }\n",
              "\n",
              "    .colab-df-convert:hover {\n",
              "      background-color: #E2EBFA;\n",
              "      box-shadow: 0px 1px 2px rgba(60, 64, 67, 0.3), 0px 1px 3px 1px rgba(60, 64, 67, 0.15);\n",
              "      fill: #174EA6;\n",
              "    }\n",
              "\n",
              "    [theme=dark] .colab-df-convert {\n",
              "      background-color: #3B4455;\n",
              "      fill: #D2E3FC;\n",
              "    }\n",
              "\n",
              "    [theme=dark] .colab-df-convert:hover {\n",
              "      background-color: #434B5C;\n",
              "      box-shadow: 0px 1px 3px 1px rgba(0, 0, 0, 0.15);\n",
              "      filter: drop-shadow(0px 1px 2px rgba(0, 0, 0, 0.3));\n",
              "      fill: #FFFFFF;\n",
              "    }\n",
              "  </style>\n",
              "\n",
              "      <script>\n",
              "        const buttonEl =\n",
              "          document.querySelector('#df-1bdf5a45-7177-47e6-9f2e-de69e9f16131 button.colab-df-convert');\n",
              "        buttonEl.style.display =\n",
              "          google.colab.kernel.accessAllowed ? 'block' : 'none';\n",
              "\n",
              "        async function convertToInteractive(key) {\n",
              "          const element = document.querySelector('#df-1bdf5a45-7177-47e6-9f2e-de69e9f16131');\n",
              "          const dataTable =\n",
              "            await google.colab.kernel.invokeFunction('convertToInteractive',\n",
              "                                                     [key], {});\n",
              "          if (!dataTable) return;\n",
              "\n",
              "          const docLinkHtml = 'Like what you see? Visit the ' +\n",
              "            '<a target=\"_blank\" href=https://colab.research.google.com/notebooks/data_table.ipynb>data table notebook</a>'\n",
              "            + ' to learn more about interactive tables.';\n",
              "          element.innerHTML = '';\n",
              "          dataTable['output_type'] = 'display_data';\n",
              "          await google.colab.output.renderOutput(dataTable, element);\n",
              "          const docLink = document.createElement('div');\n",
              "          docLink.innerHTML = docLinkHtml;\n",
              "          element.appendChild(docLink);\n",
              "        }\n",
              "      </script>\n",
              "    </div>\n",
              "  </div>\n",
              "  "
            ]
          },
          "metadata": {},
          "execution_count": 204
        }
      ]
    },
    {
      "cell_type": "code",
      "source": [
        "df4 = df3"
      ],
      "metadata": {
        "id": "2x5GEqXedcHK"
      },
      "execution_count": null,
      "outputs": []
    },
    {
      "cell_type": "markdown",
      "metadata": {
        "id": "eANi4np3kozJ"
      },
      "source": [
        "### Encode Labels from Strings to Numbers"
      ]
    },
    {
      "cell_type": "code",
      "execution_count": null,
      "metadata": {
        "id": "wPYo_W9uyt7h"
      },
      "outputs": [],
      "source": [
        "for col in df4.columns:\n",
        "    if df4.dtypes[col] == \"object\":\n",
        "        df4[col] = df4[col].fillna(\"NA\")\n",
        "    else:\n",
        "        df4[col] = df4[col].fillna(0)\n",
        "    df4[col] = LabelEncoder().fit_transform(df4[col])"
      ]
    },
    {
      "cell_type": "code",
      "source": [
        "df4.head()"
      ],
      "metadata": {
        "colab": {
          "base_uri": "https://localhost:8080/",
          "height": 317
        },
        "id": "jNX7t1LwVxJ8",
        "outputId": "74e7837c-95f6-4991-cd02-a2d98963f7b8"
      },
      "execution_count": null,
      "outputs": [
        {
          "output_type": "execute_result",
          "data": {
            "text/plain": [
              "    Hour_Start  SOC_Start  Holiday  Origin_label  Destination_label  \\\n",
              "0          763       1041        0             1                  0   \n",
              "2          888       1381        0             1                  0   \n",
              "9         1042        664        0             1                  0   \n",
              "11         614       1341        0             1                  0   \n",
              "13        1006       1322        0             1                  0   \n",
              "\n",
              "    charge_level  charge_start_time  Hour  day_name_Friday  day_name_Monday  \\\n",
              "0              1                  0    14                0                0   \n",
              "2              1                  1    16                0                0   \n",
              "9              1                  2    19                0                0   \n",
              "11             1                  3    12                1                0   \n",
              "13             1                  4    18                1                0   \n",
              "\n",
              "    ...  day_name_Tuesday  day_name_Wednesday  vehicle_model_Bolt 66  \\\n",
              "0   ...                 1                   0                      0   \n",
              "2   ...                 0                   1                      0   \n",
              "9   ...                 0                   0                      0   \n",
              "11  ...                 0                   0                      0   \n",
              "13  ...                 0                   0                      0   \n",
              "\n",
              "    vehicle_model_Leaf 24  vehicle_model_Leaf 30  vehicle_model_Model S 60_80  \\\n",
              "0                       1                      0                            0   \n",
              "2                       1                      0                            0   \n",
              "9                       1                      0                            0   \n",
              "11                      1                      0                            0   \n",
              "13                      1                      0                            0   \n",
              "\n",
              "    vehicle_model_Model S 80_100  vehicle_model_RAV4 EV 41.8  \\\n",
              "0                              0                           0   \n",
              "2                              0                           0   \n",
              "9                              0                           0   \n",
              "11                             0                           0   \n",
              "13                             0                           0   \n",
              "\n",
              "    day_type_weekday  day_type_weekend  \n",
              "0                  1                 0  \n",
              "2                  1                 0  \n",
              "9                  1                 0  \n",
              "11                 1                 0  \n",
              "13                 1                 0  \n",
              "\n",
              "[5 rows x 23 columns]"
            ],
            "text/html": [
              "\n",
              "  <div id=\"df-dc8a78dd-93ed-493e-a08e-2e873e8ab31f\">\n",
              "    <div class=\"colab-df-container\">\n",
              "      <div>\n",
              "<style scoped>\n",
              "    .dataframe tbody tr th:only-of-type {\n",
              "        vertical-align: middle;\n",
              "    }\n",
              "\n",
              "    .dataframe tbody tr th {\n",
              "        vertical-align: top;\n",
              "    }\n",
              "\n",
              "    .dataframe thead th {\n",
              "        text-align: right;\n",
              "    }\n",
              "</style>\n",
              "<table border=\"1\" class=\"dataframe\">\n",
              "  <thead>\n",
              "    <tr style=\"text-align: right;\">\n",
              "      <th></th>\n",
              "      <th>Hour_Start</th>\n",
              "      <th>SOC_Start</th>\n",
              "      <th>Holiday</th>\n",
              "      <th>Origin_label</th>\n",
              "      <th>Destination_label</th>\n",
              "      <th>charge_level</th>\n",
              "      <th>charge_start_time</th>\n",
              "      <th>Hour</th>\n",
              "      <th>day_name_Friday</th>\n",
              "      <th>day_name_Monday</th>\n",
              "      <th>...</th>\n",
              "      <th>day_name_Tuesday</th>\n",
              "      <th>day_name_Wednesday</th>\n",
              "      <th>vehicle_model_Bolt 66</th>\n",
              "      <th>vehicle_model_Leaf 24</th>\n",
              "      <th>vehicle_model_Leaf 30</th>\n",
              "      <th>vehicle_model_Model S 60_80</th>\n",
              "      <th>vehicle_model_Model S 80_100</th>\n",
              "      <th>vehicle_model_RAV4 EV 41.8</th>\n",
              "      <th>day_type_weekday</th>\n",
              "      <th>day_type_weekend</th>\n",
              "    </tr>\n",
              "  </thead>\n",
              "  <tbody>\n",
              "    <tr>\n",
              "      <th>0</th>\n",
              "      <td>763</td>\n",
              "      <td>1041</td>\n",
              "      <td>0</td>\n",
              "      <td>1</td>\n",
              "      <td>0</td>\n",
              "      <td>1</td>\n",
              "      <td>0</td>\n",
              "      <td>14</td>\n",
              "      <td>0</td>\n",
              "      <td>0</td>\n",
              "      <td>...</td>\n",
              "      <td>1</td>\n",
              "      <td>0</td>\n",
              "      <td>0</td>\n",
              "      <td>1</td>\n",
              "      <td>0</td>\n",
              "      <td>0</td>\n",
              "      <td>0</td>\n",
              "      <td>0</td>\n",
              "      <td>1</td>\n",
              "      <td>0</td>\n",
              "    </tr>\n",
              "    <tr>\n",
              "      <th>2</th>\n",
              "      <td>888</td>\n",
              "      <td>1381</td>\n",
              "      <td>0</td>\n",
              "      <td>1</td>\n",
              "      <td>0</td>\n",
              "      <td>1</td>\n",
              "      <td>1</td>\n",
              "      <td>16</td>\n",
              "      <td>0</td>\n",
              "      <td>0</td>\n",
              "      <td>...</td>\n",
              "      <td>0</td>\n",
              "      <td>1</td>\n",
              "      <td>0</td>\n",
              "      <td>1</td>\n",
              "      <td>0</td>\n",
              "      <td>0</td>\n",
              "      <td>0</td>\n",
              "      <td>0</td>\n",
              "      <td>1</td>\n",
              "      <td>0</td>\n",
              "    </tr>\n",
              "    <tr>\n",
              "      <th>9</th>\n",
              "      <td>1042</td>\n",
              "      <td>664</td>\n",
              "      <td>0</td>\n",
              "      <td>1</td>\n",
              "      <td>0</td>\n",
              "      <td>1</td>\n",
              "      <td>2</td>\n",
              "      <td>19</td>\n",
              "      <td>0</td>\n",
              "      <td>0</td>\n",
              "      <td>...</td>\n",
              "      <td>0</td>\n",
              "      <td>0</td>\n",
              "      <td>0</td>\n",
              "      <td>1</td>\n",
              "      <td>0</td>\n",
              "      <td>0</td>\n",
              "      <td>0</td>\n",
              "      <td>0</td>\n",
              "      <td>1</td>\n",
              "      <td>0</td>\n",
              "    </tr>\n",
              "    <tr>\n",
              "      <th>11</th>\n",
              "      <td>614</td>\n",
              "      <td>1341</td>\n",
              "      <td>0</td>\n",
              "      <td>1</td>\n",
              "      <td>0</td>\n",
              "      <td>1</td>\n",
              "      <td>3</td>\n",
              "      <td>12</td>\n",
              "      <td>1</td>\n",
              "      <td>0</td>\n",
              "      <td>...</td>\n",
              "      <td>0</td>\n",
              "      <td>0</td>\n",
              "      <td>0</td>\n",
              "      <td>1</td>\n",
              "      <td>0</td>\n",
              "      <td>0</td>\n",
              "      <td>0</td>\n",
              "      <td>0</td>\n",
              "      <td>1</td>\n",
              "      <td>0</td>\n",
              "    </tr>\n",
              "    <tr>\n",
              "      <th>13</th>\n",
              "      <td>1006</td>\n",
              "      <td>1322</td>\n",
              "      <td>0</td>\n",
              "      <td>1</td>\n",
              "      <td>0</td>\n",
              "      <td>1</td>\n",
              "      <td>4</td>\n",
              "      <td>18</td>\n",
              "      <td>1</td>\n",
              "      <td>0</td>\n",
              "      <td>...</td>\n",
              "      <td>0</td>\n",
              "      <td>0</td>\n",
              "      <td>0</td>\n",
              "      <td>1</td>\n",
              "      <td>0</td>\n",
              "      <td>0</td>\n",
              "      <td>0</td>\n",
              "      <td>0</td>\n",
              "      <td>1</td>\n",
              "      <td>0</td>\n",
              "    </tr>\n",
              "  </tbody>\n",
              "</table>\n",
              "<p>5 rows × 23 columns</p>\n",
              "</div>\n",
              "      <button class=\"colab-df-convert\" onclick=\"convertToInteractive('df-dc8a78dd-93ed-493e-a08e-2e873e8ab31f')\"\n",
              "              title=\"Convert this dataframe to an interactive table.\"\n",
              "              style=\"display:none;\">\n",
              "        \n",
              "  <svg xmlns=\"http://www.w3.org/2000/svg\" height=\"24px\"viewBox=\"0 0 24 24\"\n",
              "       width=\"24px\">\n",
              "    <path d=\"M0 0h24v24H0V0z\" fill=\"none\"/>\n",
              "    <path d=\"M18.56 5.44l.94 2.06.94-2.06 2.06-.94-2.06-.94-.94-2.06-.94 2.06-2.06.94zm-11 1L8.5 8.5l.94-2.06 2.06-.94-2.06-.94L8.5 2.5l-.94 2.06-2.06.94zm10 10l.94 2.06.94-2.06 2.06-.94-2.06-.94-.94-2.06-.94 2.06-2.06.94z\"/><path d=\"M17.41 7.96l-1.37-1.37c-.4-.4-.92-.59-1.43-.59-.52 0-1.04.2-1.43.59L10.3 9.45l-7.72 7.72c-.78.78-.78 2.05 0 2.83L4 21.41c.39.39.9.59 1.41.59.51 0 1.02-.2 1.41-.59l7.78-7.78 2.81-2.81c.8-.78.8-2.07 0-2.86zM5.41 20L4 18.59l7.72-7.72 1.47 1.35L5.41 20z\"/>\n",
              "  </svg>\n",
              "      </button>\n",
              "      \n",
              "  <style>\n",
              "    .colab-df-container {\n",
              "      display:flex;\n",
              "      flex-wrap:wrap;\n",
              "      gap: 12px;\n",
              "    }\n",
              "\n",
              "    .colab-df-convert {\n",
              "      background-color: #E8F0FE;\n",
              "      border: none;\n",
              "      border-radius: 50%;\n",
              "      cursor: pointer;\n",
              "      display: none;\n",
              "      fill: #1967D2;\n",
              "      height: 32px;\n",
              "      padding: 0 0 0 0;\n",
              "      width: 32px;\n",
              "    }\n",
              "\n",
              "    .colab-df-convert:hover {\n",
              "      background-color: #E2EBFA;\n",
              "      box-shadow: 0px 1px 2px rgba(60, 64, 67, 0.3), 0px 1px 3px 1px rgba(60, 64, 67, 0.15);\n",
              "      fill: #174EA6;\n",
              "    }\n",
              "\n",
              "    [theme=dark] .colab-df-convert {\n",
              "      background-color: #3B4455;\n",
              "      fill: #D2E3FC;\n",
              "    }\n",
              "\n",
              "    [theme=dark] .colab-df-convert:hover {\n",
              "      background-color: #434B5C;\n",
              "      box-shadow: 0px 1px 3px 1px rgba(0, 0, 0, 0.15);\n",
              "      filter: drop-shadow(0px 1px 2px rgba(0, 0, 0, 0.3));\n",
              "      fill: #FFFFFF;\n",
              "    }\n",
              "  </style>\n",
              "\n",
              "      <script>\n",
              "        const buttonEl =\n",
              "          document.querySelector('#df-dc8a78dd-93ed-493e-a08e-2e873e8ab31f button.colab-df-convert');\n",
              "        buttonEl.style.display =\n",
              "          google.colab.kernel.accessAllowed ? 'block' : 'none';\n",
              "\n",
              "        async function convertToInteractive(key) {\n",
              "          const element = document.querySelector('#df-dc8a78dd-93ed-493e-a08e-2e873e8ab31f');\n",
              "          const dataTable =\n",
              "            await google.colab.kernel.invokeFunction('convertToInteractive',\n",
              "                                                     [key], {});\n",
              "          if (!dataTable) return;\n",
              "\n",
              "          const docLinkHtml = 'Like what you see? Visit the ' +\n",
              "            '<a target=\"_blank\" href=https://colab.research.google.com/notebooks/data_table.ipynb>data table notebook</a>'\n",
              "            + ' to learn more about interactive tables.';\n",
              "          element.innerHTML = '';\n",
              "          dataTable['output_type'] = 'display_data';\n",
              "          await google.colab.output.renderOutput(dataTable, element);\n",
              "          const docLink = document.createElement('div');\n",
              "          docLink.innerHTML = docLinkHtml;\n",
              "          element.appendChild(docLink);\n",
              "        }\n",
              "      </script>\n",
              "    </div>\n",
              "  </div>\n",
              "  "
            ]
          },
          "metadata": {},
          "execution_count": 207
        }
      ]
    },
    {
      "cell_type": "code",
      "source": [
        "x= df4.iloc[:, df4.columns != 'charge_level']\n",
        "y= df4.iloc[:, df4.columns == 'charge_level']"
      ],
      "metadata": {
        "id": "9eikOhF8WrW7"
      },
      "execution_count": null,
      "outputs": []
    },
    {
      "cell_type": "code",
      "source": [
        "#import the necessary module to train-test split\n",
        "\n",
        "from sklearn.model_selection import train_test_split\n",
        "x_train,x_test,y_train,y_test=train_test_split(x,y,test_size= 0.3)\n",
        "print(\"Shape of data training set {}\".format(x_train.shape))    \n",
        "print(\"Shape of data test set {}\".format(x_test.shape)) \n",
        "print(\"Shape of target training set {}\".format(y_train.shape)) \n",
        "print(\"Shape of target test set {}\".format(y_train.shape)) "
      ],
      "metadata": {
        "colab": {
          "base_uri": "https://localhost:8080/"
        },
        "id": "iF_osA2pX8m1",
        "outputId": "9d64001a-c08b-44f4-d95e-1a371e102f19"
      },
      "execution_count": null,
      "outputs": [
        {
          "output_type": "stream",
          "name": "stdout",
          "text": [
            "Shape of data training set (20013, 22)\n",
            "Shape of data test set (8578, 22)\n",
            "Shape of target training set (20013, 1)\n",
            "Shape of target test set (20013, 1)\n"
          ]
        }
      ]
    },
    {
      "cell_type": "markdown",
      "source": [
        "###Predictive modeling\n",
        "\n",
        "*   RandonForest : 0.671\n",
        "*   DecisionTree : 0.738\n",
        "*   KNN : 0.625\n",
        "\n",
        "\n",
        "\n"
      ],
      "metadata": {
        "id": "GTJOUEVILJ0z"
      }
    },
    {
      "cell_type": "code",
      "source": [
        "# RF model\n",
        "\n",
        "#Create an object of GaussianNB\n",
        "random_forest = RandomForestClassifier(criterion=\"entropy\", max_depth=3, random_state=42)\n",
        "#train the algorithm on taining data and predict using the testing data\n",
        "#Fitting the data\n",
        "random_forest.fit(x_train,y_train)\n",
        "#prediction \n",
        "pred = random_forest.predict(x_test)\n",
        "print(pred)\n",
        "\n",
        "#print the accuracy score\n",
        "# print(\"Random Forest Accuracy \",accuracy_score(y_test,pred,normalize = True))\n",
        "rfc_cv_score = cross_val_score(random_forest, x, y, cv=10, scoring= 'accuracy')\n",
        "print(\"RandomForest (10 fold cross validation accuracy): \", rfc_cv_score.mean())\n",
        "\n",
        "#Confusion Matrix\n",
        "print(confusion_matrix(y_test,pred))\n",
        "\n",
        "# Instantiate the classification model and visualizer\n",
        "visualizer = ClassificationReport(random_forest, classes=['0','1','2','3'])\n",
        "visualizer.fit(x_train, y_train) # Fit the training data to the visualizer\n",
        "visualizer.score(x_test, y_test) # Evaluate the model on the test data"
      ],
      "metadata": {
        "colab": {
          "base_uri": "https://localhost:8080/",
          "height": 434
        },
        "id": "UByd5rw_YIW5",
        "outputId": "a5deddcb-4ffa-4d6d-80b1-2a68cb525495"
      },
      "execution_count": null,
      "outputs": [
        {
          "output_type": "stream",
          "name": "stdout",
          "text": [
            "[3 3 2 ... 1 3 2]\n",
            "[3 3 2 ... 1 3 2]\n",
            "RandomForest (10 fold cross validation accuracy):  0.6712279099005227\n",
            "[[ 217    6  714    0]\n",
            " [   9 1447  770    0]\n",
            " [  63  565 2050    1]\n",
            " [   0    0    0 2736]]\n"
          ]
        },
        {
          "output_type": "execute_result",
          "data": {
            "text/plain": [
              "0.7519235252972721"
            ]
          },
          "metadata": {},
          "execution_count": 214
        },
        {
          "output_type": "display_data",
          "data": {
            "text/plain": [
              "<Figure size 432x288 with 2 Axes>"
            ],
            "image/png": "[encoded data removed]"
          },
          "metadata": {
            "needs_background": "light"
          }
        }
      ]
    },
    {
      "cell_type": "code",
      "source": [
        "# Decision Tree\n",
        "dec_tree = DecisionTreeClassifier(criterion=\"entropy\", max_depth=5)\n",
        "#train the algorithm on taining data and predict using the testing data\n",
        "#Fitting the data\n",
        "dec_tree.fit(x_train,y_train)\n",
        "#prediction \n",
        "pred = dec_tree.predict(x_test)\n",
        "print(pred)\n",
        "\n",
        "#print the accuracy score\n",
        "#print(\"Decision Tree Accuracy \",accuracy_score(y_test,pred,normalize = True))\n",
        "dec_tree_cv_score = cross_val_score(dec_tree, x, y, cv=10, scoring= 'accuracy')\n",
        "print(\"DecisionTree (10 fold cross validation accuracy): \", dec_tree_cv_score.mean())\n",
        "\n",
        "#Confusion Matrix\n",
        "print(confusion_matrix(y_test,pred))\n",
        "\n",
        "# Instantiate the classification model and visualizer\n",
        "visualizer = ClassificationReport(dec_tree, classes=['0','1','2','3'])\n",
        "visualizer.fit(x_train, y_train) # Fit the training data to the visualizer\n",
        "visualizer.score(x_test, y_test) # Evaluate the model on the test data\n",
        "g = visualizer.poof() # Draw/show/poof the data\n",
        "\n",
        "tree.plot_tree(dec_tree)"
      ],
      "metadata": {
        "colab": {
          "base_uri": "https://localhost:8080/",
          "height": 1000
        },
        "id": "hAxTOucUagW7",
        "outputId": "0d264c21-af7d-42e3-f9a9-63de4c5f97ec"
      },
      "execution_count": null,
      "outputs": [
        {
          "output_type": "stream",
          "name": "stdout",
          "text": [
            "[3 3 2 ... 1 3 2]\n",
            "DecisionTree (10 fold cross validation accuracy):  0.7382749604365554\n",
            "[[ 841   14   82    0]\n",
            " [ 155 1889  182    0]\n",
            " [ 534  954 1191    0]\n",
            " [   0    0    0 2736]]\n"
          ]
        },
        {
          "output_type": "display_data",
          "data": {
            "text/plain": [
              "<Figure size 432x288 with 2 Axes>"
            ],
            "image/png": "[encoded data removed]"
          },
          "metadata": {
            "needs_background": "light"
          }
        },
        {
          "output_type": "execute_result",
          "data": {
            "text/plain": [
              "[Text(0.53125, 0.9166666666666666, 'X[5] <= 19253.5\\nentropy = 1.911\\nsamples = 20013\\nvalue = [2280, 5148, 6321, 6264]'),\n",
              " Text(0.5, 0.75, 'X[4] <= 0.5\\nentropy = 1.476\\nsamples = 13749\\nvalue = [2280, 5148, 6321, 0]'),\n",
              " Text(0.25, 0.5833333333333334, 'X[18] <= 0.5\\nentropy = 1.038\\nsamples = 8887\\nvalue = [41, 4353, 4493, 0]'),\n",
              " Text(0.125, 0.4166666666666667, 'X[17] <= 0.5\\nentropy = 1.026\\nsamples = 7805\\nvalue = [34, 4337, 3434, 0]'),\n",
              " Text(0.0625, 0.25, 'X[19] <= 0.5\\nentropy = 0.974\\nsamples = 6859\\nvalue = [15, 4284, 2560, 0]'),\n",
              " Text(0.03125, 0.08333333333333333, 'entropy = 0.944\\nsamples = 6483\\nvalue = [15, 4284, 2184, 0]'),\n",
              " Text(0.09375, 0.08333333333333333, 'entropy = 0.0\\nsamples = 376\\nvalue = [0, 0, 376, 0]'),\n",
              " Text(0.1875, 0.25, 'X[5] <= 10668.0\\nentropy = 0.452\\nsamples = 946\\nvalue = [19, 53, 874, 0]'),\n",
              " Text(0.15625, 0.08333333333333333, 'entropy = 0.624\\nsamples = 489\\nvalue = [9, 53, 427, 0]'),\n",
              " Text(0.21875, 0.08333333333333333, 'entropy = 0.152\\nsamples = 457\\nvalue = [10, 0, 447, 0]'),\n",
              " Text(0.375, 0.4166666666666667, 'X[5] <= 13376.5\\nentropy = 0.167\\nsamples = 1082\\nvalue = [7, 16, 1059, 0]'),\n",
              " Text(0.3125, 0.25, 'X[1] <= 383.5\\nentropy = 0.128\\nsamples = 911\\nvalue = [0, 16, 895, 0]'),\n",
              " Text(0.28125, 0.08333333333333333, 'entropy = 0.503\\nsamples = 36\\nvalue = [0, 4, 32, 0]'),\n",
              " Text(0.34375, 0.08333333333333333, 'entropy = 0.105\\nsamples = 875\\nvalue = [0, 12, 863, 0]'),\n",
              " Text(0.4375, 0.25, 'X[1] <= 580.5\\nentropy = 0.247\\nsamples = 171\\nvalue = [7, 0, 164, 0]'),\n",
              " Text(0.40625, 0.08333333333333333, 'entropy = 0.918\\nsamples = 3\\nvalue = [2, 0, 1, 0]'),\n",
              " Text(0.46875, 0.08333333333333333, 'entropy = 0.193\\nsamples = 168\\nvalue = [5, 0, 163, 0]'),\n",
              " Text(0.75, 0.5833333333333334, 'X[1] <= 839.5\\nentropy = 1.473\\nsamples = 4862\\nvalue = [2239, 795, 1828, 0]'),\n",
              " Text(0.625, 0.4166666666666667, 'X[5] <= 17275.0\\nentropy = 1.226\\nsamples = 1602\\nvalue = [1037, 145, 420, 0]'),\n",
              " Text(0.5625, 0.25, 'X[16] <= 0.5\\nentropy = 1.183\\nsamples = 1538\\nvalue = [1035, 132, 371, 0]'),\n",
              " Text(0.53125, 0.08333333333333333, 'entropy = 1.316\\nsamples = 898\\nvalue = [546, 109, 243, 0]'),\n",
              " Text(0.59375, 0.08333333333333333, 'entropy = 0.933\\nsamples = 640\\nvalue = [489, 23, 128, 0]'),\n",
              " Text(0.6875, 0.25, 'X[0] <= 638.5\\nentropy = 0.918\\nsamples = 64\\nvalue = [2, 13, 49, 0]'),\n",
              " Text(0.65625, 0.08333333333333333, 'entropy = 0.49\\nsamples = 36\\nvalue = [2, 1, 33, 0]'),\n",
              " Text(0.71875, 0.08333333333333333, 'entropy = 0.985\\nsamples = 28\\nvalue = [0, 12, 16, 0]'),\n",
              " Text(0.875, 0.4166666666666667, 'X[14] <= 0.5\\nentropy = 1.518\\nsamples = 3260\\nvalue = [1202, 650, 1408, 0]'),\n",
              " Text(0.8125, 0.25, 'X[15] <= 0.5\\nentropy = 1.499\\nsamples = 2835\\nvalue = [1178, 509, 1148, 0]'),\n",
              " Text(0.78125, 0.08333333333333333, 'entropy = 1.403\\nsamples = 2070\\nvalue = [1040, 256, 774, 0]'),\n",
              " Text(0.84375, 0.08333333333333333, 'entropy = 1.478\\nsamples = 765\\nvalue = [138, 253, 374, 0]'),\n",
              " Text(0.9375, 0.25, 'X[5] <= 16292.5\\nentropy = 1.196\\nsamples = 425\\nvalue = [24, 141, 260, 0]'),\n",
              " Text(0.90625, 0.08333333333333333, 'entropy = 1.373\\nsamples = 194\\nvalue = [24, 107, 63, 0]'),\n",
              " Text(0.96875, 0.08333333333333333, 'entropy = 0.603\\nsamples = 231\\nvalue = [0, 34, 197, 0]'),\n",
              " Text(0.5625, 0.75, 'entropy = 0.0\\nsamples = 6264\\nvalue = [0, 0, 0, 6264]')]"
            ]
          },
          "metadata": {},
          "execution_count": 218
        },
        {
          "output_type": "display_data",
          "data": {
            "text/plain": [
              "<Figure size 432x288 with 1 Axes>"
            ],
            "image/png": "[encoded data removed]"
          },
          "metadata": {
            "needs_background": "light"
          }
        }
      ]
    },
    {
      "cell_type": "code",
      "source": [
        "# KNN (K-Nearest Neighbors)\n",
        "\n",
        "logmodel=KNeighborsClassifier()\n",
        "logmodel.fit(x_train,y_train)\n",
        "y_pred=logmodel.predict(x_test)\n",
        "print(y_pred)\n",
        "\n",
        "#print the accuracy score\n",
        "#print(\"K-Nearest Neighbors Accuracy\",accuracy_score(y_test,y_pred,normalize = True))\n",
        "\n",
        "knn_cv_score = cross_val_score(logmodel, x, y, cv=10, scoring= 'accuracy')\n",
        "print(\"K-Nearest Neighbors (10 fold cross validation accuracy): \", knn_cv_score.mean())\n",
        "\n",
        "#code for confusion matrix\n",
        "confusion_matrix(y_test,y_pred)\n",
        "\n",
        "# Instantiate the classification model and visualizer\n",
        "visualizer = ClassificationReport(logmodel, classes=['0','1','2','3'])\n",
        "visualizer.fit(x_train, y_train) # Fit the training data to the visualizer\n",
        "visualizer.score(x_test, y_test) # Evaluate the model on the test data\n",
        "g = visualizer.poof() # Draw/show/poof the data"
      ],
      "metadata": {
        "colab": {
          "base_uri": "https://localhost:8080/",
          "height": 332
        },
        "id": "a6GW9KDmak-0",
        "outputId": "b8efc77e-08f3-4b75-9727-ee743f1de2c2"
      },
      "execution_count": null,
      "outputs": [
        {
          "output_type": "stream",
          "name": "stdout",
          "text": [
            "[3 3 1 ... 1 3 2]\n",
            "K-Nearest Neighbors (10 fold cross validation accuracy):  0.6249497476989607\n"
          ]
        },
        {
          "output_type": "display_data",
          "data": {
            "text/plain": [
              "<Figure size 432x288 with 2 Axes>"
            ],
            "image/png": "[encoded data removed]"
          },
          "metadata": {
            "needs_background": "light"
          }
        }
      ]
    }
  ],
  "metadata": {
    "colab": {
      "background_execution": "on",
      "collapsed_sections": [],
      "name": "Baseline_ML_classifiers_.ipynb",
      "provenance": []
    },
    "kernelspec": {
      "display_name": "Python 3",
      "name": "python3"
    },
    "language_info": {
      "name": "python"
    }
  },
  "nbformat": 4,
  "nbformat_minor": 0
}